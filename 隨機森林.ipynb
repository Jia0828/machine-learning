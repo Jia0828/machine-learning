{
  "nbformat": 4,
  "nbformat_minor": 0,
  "metadata": {
    "colab": {
      "provenance": []
    },
    "kernelspec": {
      "name": "python3",
      "display_name": "Python 3"
    },
    "language_info": {
      "name": "python"
    }
  },
  "cells": [
    {
      "cell_type": "code",
      "execution_count": 1,
      "metadata": {
        "id": "TMvd68a0Tbhj",
        "outputId": "95e4c967-8098-4b58-f406-531263e63e7f",
        "colab": {
          "base_uri": "https://localhost:8080/"
        }
      },
      "outputs": [
        {
          "output_type": "stream",
          "name": "stdout",
          "text": [
            "訓練資料正確率: 0.9809523809523809\n",
            "測試資料正確率: 1.0\n",
            "標準答案: [0 2 0 2 0 2 0 1 2 2 2 0 0 1 0 1 2 0 0 0 1 2 2 1 0 0 1 1 1 0 1 1 1 2 1 1 2\n",
            " 0 1 2 0 0 2 1 1]\n",
            "預測答案: [0 2 0 2 0 2 0 1 2 2 2 0 0 1 0 1 2 0 0 0 1 2 2 1 0 0 1 1 1 0 1 1 1 2 1 1 2\n",
            " 0 1 2 0 0 2 1 1]\n"
          ]
        }
      ],
      "source": [
        "from sklearn.ensemble import RandomForestClassifier\n",
        "from sklearn.datasets import load_iris\n",
        "from sklearn.model_selection import train_test_split\n",
        "\n",
        "iris = load_iris()\n",
        "iris_data = iris.data\n",
        "iris_label = iris.target\n",
        "\n",
        "train_data, test_data, train_label, test_label = train_test_split(iris_data, iris_label, test_size = 0.3)\n",
        "\n",
        "clf = RandomForestClassifier(n_estimators=30, max_depth=4)\n",
        "iris_clf = clf.fit(train_data, train_label)\n",
        "print(\"訓練資料正確率:\",clf.score(train_data,train_label))\n",
        "print(\"測試資料正確率:\",clf.score(test_data, test_label)) \n",
        "\n",
        "\n",
        "predict=clf.predict(test_data)\n",
        "print(\"標準答案:\",test_label)\n",
        "print(\"預測答案:\",predict)"
      ]
    }
  ]
}