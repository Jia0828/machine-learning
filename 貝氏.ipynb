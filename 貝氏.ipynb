{
  "nbformat": 4,
  "nbformat_minor": 0,
  "metadata": {
    "colab": {
      "provenance": []
    },
    "kernelspec": {
      "name": "python3",
      "display_name": "Python 3"
    },
    "language_info": {
      "name": "python"
    }
  },
  "cells": [
    {
      "cell_type": "code",
      "execution_count": null,
      "metadata": {
        "colab": {
          "base_uri": "https://localhost:8080/"
        },
        "id": "D-eVujViSZZS",
        "outputId": "764b1678-c92d-4d51-d25e-281ea4f85176"
      },
      "outputs": [
        {
          "output_type": "stream",
          "name": "stdout",
          "text": [
            "訓練資料正確率: 0.9904761904761905\n",
            "測試資料正確率: 0.9777777777777777\n",
            "標準答案: [2 0 0 2 2 0 0 0 0 1 0 2 2 1 1 1 2 2 1 2 0 1 2 0 0 1 0 0 1 1 0 2 2 1 0 2 1\n",
            " 0 0 1 2 0 0 0 1]\n",
            "預測答案: [2 0 0 2 2 0 0 0 0 1 0 2 2 1 2 1 2 2 1 2 0 1 2 0 0 1 0 0 1 1 0 2 2 1 0 2 1\n",
            " 0 0 1 2 0 0 0 1]\n"
          ]
        }
      ],
      "source": [
        "from sklearn import datasets\n",
        "from sklearn.naive_bayes import GaussianNB\n",
        "from sklearn.model_selection import train_test_split\n",
        " \n",
        "iris=datasets.load_iris()\n",
        "x=iris.data\n",
        "y=iris.target\n",
        "train_data, test_data, train_label, test_label = train_test_split(x, y,test_size=0.3,random_state=0)\n",
        "clf=GaussianNB()\n",
        "clf.fit(train_data,train_label)\n",
        "print(\"訓練資料正確率:\",clf.score(train_data,train_label)) \n",
        "print(\"測試資料正確率:\",clf.score(test_data, test_label))\n",
        "predict=clf.predict(test_data)\n",
        "print(\"標準答案:\",test_label) \n",
        "print(\"預測答案:\",predict) \n"
      ]
    }
  ]
}